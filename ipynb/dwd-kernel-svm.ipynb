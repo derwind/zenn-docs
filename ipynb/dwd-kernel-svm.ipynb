{
 "cells": [
  {
   "cell_type": "code",
   "execution_count": null,
   "id": "a347d10c-d5b6-4aef-b649-736101532a5f",
   "metadata": {},
   "outputs": [],
   "source": [
    "import matplotlib\n",
    "import matplotlib.pyplot as plt\n",
    "import numpy as np\n",
    "import pylab as pl\n",
    "from sklearn.datasets import make_circles\n",
    "from sklearn.svm import SVC\n",
    "from mlxtend.plotting import plot_decision_regions\n",
    "\n",
    "# Create circles dataset\n",
    "X, Y = make_circles(n_samples=200, noise=0.05, factor=0.4)\n",
    "\n",
    "# Separate smaller and larger circles\n",
    "A = X[np.where(Y==0)]\n",
    "B = X[np.where(Y==1)]\n",
    "\n",
    "# Plot in 2D\n",
    "plt.figure(figsize=(5,5))\n",
    "plt.scatter(A[:,0],A[:,1], marker='o')\n",
    "plt.scatter(B[:,0],B[:,1], marker='s', c='C3')\n",
    "plt.grid()\n",
    "plt.show()"
   ]
  },
  {
   "cell_type": "code",
   "execution_count": null,
   "id": "1507e8e0-2847-4644-aa80-d3f06ee070cb",
   "metadata": {},
   "outputs": [],
   "source": [
    "def transform_function(x, y):\n",
    "    \"\"\" Implements f(x,y) = [x, y, z = x^2 + y^2] \"\"\"\n",
    "    return np.array([x, y, x**2.0 + y**2.0])\n",
    "\n",
    "# Transform\n",
    "A1 = np.array([transform_function(x, y) for\n",
    "               x, y in zip(np.ravel(A[:,0]), np.ravel(A[:,1]))])\n",
    "B1 = np.array([transform_function(x, y)\n",
    "               for x, y in zip(np.ravel(B[:,0]), np.ravel(B[:,1]))])\n",
    "\n",
    "# Plot in 3D\n",
    "fig = plt.figure(figsize=(10,5))\n",
    "ax = fig.add_subplot(121, projection='3d')\n",
    "ax.set_title(\"Data in 3D (separable with hyperplane)\")\n",
    "ax.scatter(A1[:,0], A1[:,1], A1[:,2], marker='o')\n",
    "ax.scatter(B1[:,0], B1[:,1], B1[:,2], marker='s', c='C3')  # make red\n",
    "ax.view_init(5, 60)\n",
    "x = np.arange(-1.25, 1.25, 0.25)\n",
    "y = np.arange(-1.25, 1.25, 0.26)\n",
    "X, Y = np.meshgrid(x, y)\n",
    "Z = np.zeros(X.shape)\n",
    "Z[:,:] = 0.5\n",
    "ax.plot_surface(X, Y, Z, color='#343A3F')\n",
    "\n",
    "# Project data to 2D\n",
    "ax2d = fig.add_subplot(122)\n",
    "ax2d.set_title(\"Data in 2D (with hyperplane projection)\")\n",
    "ax2d.scatter(A1[:,0], A1[:,1], marker='o')\n",
    "ax2d.scatter(B1[:,0], B1[:,1], marker='s',\n",
    "            c='C3')  # make red\n",
    "ax2d.add_patch(pl.Circle((0,0), radius=np.sqrt(0.5),\n",
    "               fill=False, linestyle='solid', linewidth=4.0,\n",
    "               color='#343A3F'))\n",
    "plt.grid()\n",
    "plt.show()"
   ]
  },
  {
   "cell_type": "code",
   "execution_count": null,
   "id": "cf360cac-dfea-44ad-adcc-bf5f3d64faf5",
   "metadata": {},
   "outputs": [],
   "source": [
    "A_label = np.zeros(A.shape[0], dtype=int)\n",
    "B_label = np.ones(B.shape[0], dtype=int)\n",
    "X = np.concatenate([A, B])\n",
    "y = np.concatenate([A_label, B_label])"
   ]
  },
  {
   "cell_type": "code",
   "execution_count": null,
   "id": "d70b7549-5758-4f15-acb6-53f5f8e5b3c8",
   "metadata": {},
   "outputs": [],
   "source": [
    "# https://github.com/scikit-learn/scikit-learn/blob/1.1.2/sklearn/svm/src/libsvm/svm.cpp#L342-L345\n",
    "svm = SVC(kernel='poly', degree=2)\n",
    "svm.fit(X, y)\n",
    "# https://github.com/scikit-learn/scikit-learn/blob/1.1.2/sklearn/svm/_base.py#L219-L222\n",
    "# X_var = X.var()\n",
    "# _gamma = 1.0 / (X.shape[1] * X_var) if X_var != 0 else 1.0\n",
    "print(f'after fitted: {svm.gamma=} {svm._gamma=}, {svm.coef0=}')\n",
    "\n",
    "fig, ax = plt.subplots(1, 1, figsize=(10, 5))\n",
    "fig = plot_decision_regions(X, y, clf=svm, ax=ax)\n",
    "plt.legend(loc='upper left')\n",
    "ax.set_aspect('equal')\n",
    "plt.grid()\n",
    "plt.show()"
   ]
  },
  {
   "cell_type": "code",
   "execution_count": null,
   "id": "86178ce3-ad2c-422d-887c-5fe16060158d",
   "metadata": {},
   "outputs": [],
   "source": [
    "svm = SVC(kernel='rbf')\n",
    "svm.fit(X, y)\n",
    "\n",
    "fig, ax = plt.subplots(1, 1, figsize=(10, 5))\n",
    "fig = plot_decision_regions(X, y, clf=svm, ax=ax)\n",
    "plt.legend(loc='upper left')\n",
    "ax.set_aspect('equal')\n",
    "plt.grid()\n",
    "plt.show()"
   ]
  },
  {
   "cell_type": "code",
   "execution_count": null,
   "id": "82889d36-d178-4d1a-8af5-45f11202c910",
   "metadata": {},
   "outputs": [],
   "source": [
    "def make_train_test_sets(test_ratio=.1):\n",
    "    def split(arr, test_ratio):\n",
    "        sep = int(arr.shape[0]*(1-test_ratio))\n",
    "        return arr[:sep], arr[sep:]\n",
    "\n",
    "    A_label = np.zeros(A.shape[0], dtype=int)\n",
    "    B_label = np.ones(B.shape[0], dtype=int)\n",
    "    A_train, A_test = split(A, test_ratio)\n",
    "    B_train, B_test = split(B, test_ratio)\n",
    "    A_train_label, A_test_label = split(A_label, test_ratio)\n",
    "    B_train_label, B_test_label = split(B_label, test_ratio)\n",
    "    X_train = np.concatenate([A_train, B_train])\n",
    "    y_train = np.concatenate([A_train_label, B_train_label])\n",
    "    X_test = np.concatenate([A_test, B_test])\n",
    "    y_test = np.concatenate([A_test_label, B_test_label])\n",
    "    return X_train, y_train, X_test, y_test\n",
    "\n",
    "def make_sample_total():\n",
    "    sample_total = np.zeros((100, 100), dtype=int)\n",
    "    for i in range(sample_total.shape[0]):\n",
    "        for j in range(sample_total.shape[1]):\n",
    "            if (i-sample_total.shape[0]//2)**2 + (j-sample_total.shape[1]//2)**2 >= (sample_total.shape[0]/4*(3/4))**2:\n",
    "                sample_total[i, j] = 1\n",
    "    return sample_total\n",
    "\n",
    "train_data, train_labels, test_data, test_labels = make_train_test_sets(.3)\n",
    "print(train_data.shape, train_labels.shape, test_data.shape, test_labels.shape)"
   ]
  },
  {
   "cell_type": "code",
   "execution_count": null,
   "id": "46be2ce5-ff36-4231-a529-3ab4b91b58e9",
   "metadata": {},
   "outputs": [],
   "source": [
    "def default_feature_map(x, y):\n",
    "    return np.array([x, y, x**2 + y**2])\n",
    "\n",
    "def calculate_kernel(x_data, y_data=None, feature_map=default_feature_map):\n",
    "    if y_data is None:\n",
    "        y_data = x_data\n",
    "    x_matrix, y_matrix = [], []\n",
    "    for x0, x1 in x_data:\n",
    "        x_matrix.append(feature_map(x0, x1))\n",
    "    for y0, y1 in y_data:\n",
    "        y_matrix.append(feature_map(y0, y1))\n",
    "    x_matrix, y_matrix = np.array(x_matrix), np.array(y_matrix)\n",
    "    # Compute the square of the conjugate inner product of the feature\n",
    "    # map circuits: the kernel matrix\n",
    "    kernel = y_matrix.conjugate() @ x_matrix.transpose()\n",
    "    return kernel"
   ]
  },
  {
   "cell_type": "code",
   "execution_count": null,
   "id": "b095470d-b60d-4f79-9f60-6ce7aa593734",
   "metadata": {},
   "outputs": [],
   "source": [
    "train_kernel = calculate_kernel(train_data)\n",
    "test_kernel = calculate_kernel(train_data, test_data)"
   ]
  },
  {
   "cell_type": "code",
   "execution_count": null,
   "id": "682ca15e-90b5-408d-9f6e-2299fdf3f59f",
   "metadata": {},
   "outputs": [],
   "source": [
    "from sklearn.svm import SVC\n",
    "# train scikit-learn svm model\n",
    "model = SVC(kernel='precomputed')\n",
    "model.fit(train_kernel, train_labels)\n",
    "print(\"Number of support vectors for each class:\", model.n_support_)\n",
    "print(\"Indices of support vectors:\", model.support_)"
   ]
  },
  {
   "cell_type": "code",
   "execution_count": null,
   "id": "07a0425c-4d68-411c-a798-87994bf82904",
   "metadata": {},
   "outputs": [],
   "source": [
    "pred = model.predict(test_kernel)"
   ]
  },
  {
   "cell_type": "code",
   "execution_count": null,
   "id": "11bb0828-006f-48bb-9219-1460594fddfe",
   "metadata": {},
   "outputs": [],
   "source": [
    "fig = plt.figure(figsize=(5, 5))\n",
    "ax = fig.add_subplot(111)\n",
    "ax.set_aspect('equal')\n",
    "ax.set_title(\"Predicted data classification\")\n",
    "ax.set_ylim(-2, 2)\n",
    "ax.set_xlim(-2, 2)\n",
    "for (x, y), pred_label in zip(test_data, pred):\n",
    "    c = 'C0' if pred_label == 0 else 'C3'\n",
    "    ax.add_patch(matplotlib.patches.Circle((x, y), radius=.01,\n",
    "                 fill=True, linestyle='solid', linewidth=4.0,\n",
    "                 color=c))\n",
    "plt.grid()\n",
    "plt.show()"
   ]
  },
  {
   "cell_type": "code",
   "execution_count": null,
   "id": "3896b927-9540-4104-90a3-44461adda309",
   "metadata": {},
   "outputs": [],
   "source": [
    "model.score(test_kernel, test_labels)"
   ]
  }
 ],
 "metadata": {
  "kernelspec": {
   "display_name": "Python 3",
   "language": "python",
   "name": "python3"
  },
  "language_info": {
   "codemirror_mode": {
    "name": "ipython",
    "version": 3
   },
   "file_extension": ".py",
   "mimetype": "text/x-python",
   "name": "python",
   "nbconvert_exporter": "python",
   "pygments_lexer": "ipython3",
   "version": "3.9.4"
  }
 },
 "nbformat": 4,
 "nbformat_minor": 5
}
