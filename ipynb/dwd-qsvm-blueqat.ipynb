{
 "cells": [
  {
   "cell_type": "code",
   "execution_count": null,
   "id": "76257675-5d09-43d7-9aba-e169763ef212",
   "metadata": {},
   "outputs": [],
   "source": [
    "X, Y = make_circles(n_samples=200, noise=0.05, factor=0.4)\n",
    "\n",
    "A = X[np.where(Y==0)]\n",
    "B = X[np.where(Y==1)]\n",
    "\n",
    "A_label = np.zeros(A.shape[0], dtype=int)\n",
    "B_label = np.ones(B.shape[0], dtype=int)\n",
    "\n",
    "def make_train_test_sets(test_ratio=.3):\n",
    "    def split(arr, test_ratio):\n",
    "        sep = int(arr.shape[0]*(1-test_ratio))\n",
    "        return arr[:sep], arr[sep:]\n",
    "\n",
    "    A_label = np.zeros(A.shape[0], dtype=int)\n",
    "    B_label = np.ones(B.shape[0], dtype=int)\n",
    "    A_train, A_test = split(A, test_ratio)\n",
    "    B_train, B_test = split(B, test_ratio)\n",
    "    A_train_label, A_test_label = split(A_label, test_ratio)\n",
    "    B_train_label, B_test_label = split(B_label, test_ratio)\n",
    "    X_train = np.concatenate([A_train, B_train])\n",
    "    y_train = np.concatenate([A_train_label, B_train_label])\n",
    "    X_test = np.concatenate([A_test, B_test])\n",
    "    y_test = np.concatenate([A_test_label, B_test_label])\n",
    "    return X_train, y_train, X_test, y_test\n",
    "\n",
    "train_data, train_labels, test_data, test_labels = make_train_test_sets()"
   ]
  },
  {
   "cell_type": "code",
   "execution_count": null,
   "id": "92e3cd27-17c6-4822-93fb-064c3ba8ed65",
   "metadata": {},
   "outputs": [],
   "source": [
    "from blueqat import Circuit\n",
    "from functools import partial\n",
    "\n",
    "def zz_feature_map(x, reps):\n",
    "    def sub_circuit(x):\n",
    "        n_qubit = len(x)\n",
    "        c = Circuit().h[:]\n",
    "        for i in range(n_qubit):\n",
    "            c.rz(2*x[i])[i]\n",
    "        for i in range(n_qubit - 1):\n",
    "            for j in range(i+1, n_qubit):\n",
    "                c.cx[i, j].rz(2*(np.pi-x[i])*(np.pi-x[j]))[j].cx[i, j]\n",
    "        return c\n",
    "\n",
    "    c = Circuit()\n",
    "    for _ in range(reps):\n",
    "        c += sub_circuit(x)\n",
    "    return c\n",
    "\n",
    "feature_map = partial(zz_feature_map, reps=2)\n",
    "\n",
    "def calculate_kernel(feature_map, x_data, y_data=None):\n",
    "    if y_data is None:\n",
    "        y_data = x_data\n",
    "    x_matrix, y_matrix = [], []\n",
    "    for x0, x1 in x_data:\n",
    "        c = feature_map([x0, x1])\n",
    "        sv = c.run(backend='numpy')\n",
    "        x_matrix.append(sv)\n",
    "    for y0, y1 in y_data:\n",
    "        c = feature_map([y0, y1])\n",
    "        sv = c.run(backend='numpy')\n",
    "        y_matrix.append(sv)\n",
    "    x_matrix, y_matrix = np.array(x_matrix), np.array(y_matrix)\n",
    "    # Compute the square of the conjugate inner product of the feature\n",
    "    # map circuits: the kernel matrix\n",
    "    kernel = np.abs(\n",
    "        y_matrix.conjugate() @ x_matrix.transpose()\n",
    "    )**2\n",
    "    return kernel"
   ]
  },
  {
   "cell_type": "code",
   "execution_count": null,
   "id": "20dfa7c6-8bae-415d-b818-6c46ad2c2f31",
   "metadata": {},
   "outputs": [],
   "source": [
    "from sklearn.svm import SVC\n",
    "\n",
    "train_kernel = calculate_kernel(feature_map, train_data)\n",
    "\n",
    "model = SVC(kernel='precomputed')\n",
    "model.fit(train_kernel, train_labels);"
   ]
  },
  {
   "cell_type": "code",
   "execution_count": null,
   "id": "2299dd0d-f00b-4f8e-a090-8aab2eb83790",
   "metadata": {},
   "outputs": [],
   "source": [
    "import matplotlib\n",
    "\n",
    "test_kernel = calculate_kernel(feature_map, train_data, test_data)\n",
    "pred = model.predict(test_kernel)\n",
    "\n",
    "fig = plt.figure(figsize=(5, 5))\n",
    "ax = fig.add_subplot(111)\n",
    "ax.set_aspect('equal')\n",
    "ax.set_title(\"Predicted data classification\")\n",
    "ax.set_ylim(-2, 2)\n",
    "ax.set_xlim(-2, 2)\n",
    "for (x, y), pred_label in zip(test_data, pred):\n",
    "    c = 'C0' if pred_label == 0 else 'C3'\n",
    "    ax.add_patch(matplotlib.patches.Circle((x, y), radius=.01,\n",
    "                 fill=True, linestyle='solid', linewidth=4.0,\n",
    "                 color=c))\n",
    "plt.grid()\n",
    "plt.show()"
   ]
  },
  {
   "cell_type": "code",
   "execution_count": null,
   "id": "7ab8000c-f334-49ba-a161-aa17b46e2959",
   "metadata": {},
   "outputs": [],
   "source": [
    "model.score(test_kernel, test_labels)"
   ]
  }
 ],
 "metadata": {
  "kernelspec": {
   "display_name": "Python 3 (ipykernel)",
   "language": "python",
   "name": "python3"
  },
  "language_info": {
   "codemirror_mode": {
    "name": "ipython",
    "version": 3
   },
   "file_extension": ".py",
   "mimetype": "text/x-python",
   "name": "python",
   "nbconvert_exporter": "python",
   "pygments_lexer": "ipython3",
   "version": "3.9.13"
  }
 },
 "nbformat": 4,
 "nbformat_minor": 5
}
