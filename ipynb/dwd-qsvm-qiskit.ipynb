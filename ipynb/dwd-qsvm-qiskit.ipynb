{
 "cells": [
  {
   "cell_type": "code",
   "execution_count": null,
   "id": "b7e94072-2b90-4dd1-b7d6-c1a8e6419335",
   "metadata": {},
   "outputs": [],
   "source": [
    "from sklearn.svm import SVC\n",
    "import matplotlib.pyplot as plt\n",
    "import numpy as np\n",
    "import pylab as pl\n",
    "from sklearn.datasets import make_circles\n",
    "from mlxtend.plotting import plot_decision_regions\n",
    "\n",
    "from qiskit.utils import algorithm_globals\n",
    "algorithm_globals.random_seed = 12345\n",
    "\n",
    "from qiskit_machine_learning.datasets import ad_hoc_data\n",
    "train_data, train_labels, test_data, test_labels, sample_total = (\n",
    "    ad_hoc_data(training_size=20, test_size=5, n=2, gap=0.3,\n",
    "                include_sample_total=True, one_hot=False))"
   ]
  },
  {
   "cell_type": "code",
   "execution_count": null,
   "id": "0836b1b1-013b-4530-9617-b51c27220194",
   "metadata": {},
   "outputs": [],
   "source": [
    "svm = SVC(kernel='rbf')\n",
    "svm.fit(train_data, train_labels)\n",
    "\n",
    "fig, ax = plt.subplots(1, 1, figsize=(10, 5))\n",
    "fig = plot_decision_regions(train_data, train_labels, clf=svm, ax=ax)\n",
    "plt.legend(loc='upper left')\n",
    "ax.set_aspect('equal')\n",
    "plt.grid()\n",
    "plt.show()"
   ]
  },
  {
   "cell_type": "code",
   "execution_count": null,
   "id": "ec5a6537-6c6f-48db-9607-a9b772a32656",
   "metadata": {},
   "outputs": [],
   "source": [
    "X, Y = make_circles(n_samples=200, noise=0.05, factor=0.4)\n",
    "\n",
    "A = X[np.where(Y==0)]\n",
    "B = X[np.where(Y==1)]\n",
    "\n",
    "A_label = np.zeros(A.shape[0], dtype=int)\n",
    "B_label = np.ones(B.shape[0], dtype=int)\n",
    "\n",
    "def make_train_test_sets(test_ratio=.3):\n",
    "    def split(arr, test_ratio):\n",
    "        sep = int(arr.shape[0]*(1-test_ratio))\n",
    "        return arr[:sep], arr[sep:]\n",
    "\n",
    "    A_label = np.zeros(A.shape[0], dtype=int)\n",
    "    B_label = np.ones(B.shape[0], dtype=int)\n",
    "    A_train, A_test = split(A, test_ratio)\n",
    "    B_train, B_test = split(B, test_ratio)\n",
    "    A_train_label, A_test_label = split(A_label, test_ratio)\n",
    "    B_train_label, B_test_label = split(B_label, test_ratio)\n",
    "    X_train = np.concatenate([A_train, B_train])\n",
    "    y_train = np.concatenate([A_train_label, B_train_label])\n",
    "    X_test = np.concatenate([A_test, B_test])\n",
    "    y_test = np.concatenate([A_test_label, B_test_label])\n",
    "    return X_train, y_train, X_test, y_test\n",
    "\n",
    "train_data, train_labels, test_data, test_labels = make_train_test_sets()"
   ]
  }
 ],
 "metadata": {
  "kernelspec": {
   "display_name": "Python 3",
   "language": "python",
   "name": "python3"
  },
  "language_info": {
   "codemirror_mode": {
    "name": "ipython",
    "version": 3
   },
   "file_extension": ".py",
   "mimetype": "text/x-python",
   "name": "python",
   "nbconvert_exporter": "python",
   "pygments_lexer": "ipython3",
   "version": "3.9.4"
  }
 },
 "nbformat": 4,
 "nbformat_minor": 5
}
