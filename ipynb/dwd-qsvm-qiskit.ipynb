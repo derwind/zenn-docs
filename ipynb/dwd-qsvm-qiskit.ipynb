{
 "cells": [
  {
   "cell_type": "code",
   "execution_count": null,
   "id": "b7e94072-2b90-4dd1-b7d6-c1a8e6419335",
   "metadata": {},
   "outputs": [],
   "source": [
    "from sklearn.svm import SVC\n",
    "import matplotlib.pyplot as plt\n",
    "import numpy as np\n",
    "import pylab as pl\n",
    "from sklearn.datasets import make_circles\n",
    "from mlxtend.plotting import plot_decision_regions\n",
    "\n",
    "from qiskit.utils import algorithm_globals\n",
    "algorithm_globals.random_seed = 12345\n",
    "\n",
    "from qiskit_machine_learning.datasets import ad_hoc_data\n",
    "train_data, train_labels, test_data, test_labels, sample_total = (\n",
    "    ad_hoc_data(training_size=20, test_size=5, n=2, gap=0.3,\n",
    "                include_sample_total=True, one_hot=False))"
   ]
  },
  {
   "cell_type": "code",
   "execution_count": null,
   "id": "0836b1b1-013b-4530-9617-b51c27220194",
   "metadata": {},
   "outputs": [],
   "source": [
    "svm = SVC(kernel='rbf')\n",
    "svm.fit(train_data, train_labels)\n",
    "\n",
    "fig, ax = plt.subplots(1, 1, figsize=(10, 5))\n",
    "fig = plot_decision_regions(train_data, train_labels, clf=svm, ax=ax)\n",
    "plt.legend(loc='upper left')\n",
    "ax.set_aspect('equal')\n",
    "plt.grid()\n",
    "plt.show()"
   ]
  },
  {
   "cell_type": "code",
   "execution_count": null,
   "id": "ec5a6537-6c6f-48db-9607-a9b772a32656",
   "metadata": {},
   "outputs": [],
   "source": [
    "X, Y = make_circles(n_samples=200, noise=0.05, factor=0.4)\n",
    "\n",
    "A = X[np.where(Y==0)]\n",
    "B = X[np.where(Y==1)]\n",
    "\n",
    "A_label = np.zeros(A.shape[0], dtype=int)\n",
    "B_label = np.ones(B.shape[0], dtype=int)\n",
    "\n",
    "def make_train_test_sets(test_ratio=.3):\n",
    "    def split(arr, test_ratio):\n",
    "        sep = int(arr.shape[0]*(1-test_ratio))\n",
    "        return arr[:sep], arr[sep:]\n",
    "\n",
    "    A_label = np.zeros(A.shape[0], dtype=int)\n",
    "    B_label = np.ones(B.shape[0], dtype=int)\n",
    "    A_train, A_test = split(A, test_ratio)\n",
    "    B_train, B_test = split(B, test_ratio)\n",
    "    A_train_label, A_test_label = split(A_label, test_ratio)\n",
    "    B_train_label, B_test_label = split(B_label, test_ratio)\n",
    "    X_train = np.concatenate([A_train, B_train])\n",
    "    y_train = np.concatenate([A_train_label, B_train_label])\n",
    "    X_test = np.concatenate([A_test, B_test])\n",
    "    y_test = np.concatenate([A_test_label, B_test_label])\n",
    "    return X_train, y_train, X_test, y_test\n",
    "\n",
    "train_data, train_labels, test_data, test_labels = make_train_test_sets()"
   ]
  },
  {
   "cell_type": "code",
   "execution_count": null,
   "id": "69289cef-986a-487a-89f3-bb3e4b02b2fb",
   "metadata": {},
   "outputs": [],
   "source": [
    "from qiskit import QuantumCircuit\n",
    "from qiskit.circuit import Parameter\n",
    "from qiskit.circuit.library import ZZFeatureMap\n",
    "\n",
    "ZZFeatureMap(feature_dimension=2, reps=1).decompose().draw()"
   ]
  },
  {
   "cell_type": "code",
   "execution_count": null,
   "id": "3226777e-6255-4d45-86ce-c6de2127c300",
   "metadata": {},
   "outputs": [],
   "source": [
    "qc = QuantumCircuit(2)\n",
    "theta = Parameter('θ')\n",
    "qc.cx(0, 1)\n",
    "qc.rz(2*theta, 1)\n",
    "qc.cx(0, 1)\n",
    "\n",
    "qc.draw()"
   ]
  },
  {
   "cell_type": "code",
   "execution_count": null,
   "id": "77f7d6c8-ff09-4f9c-b073-0f3e89fecc06",
   "metadata": {},
   "outputs": [],
   "source": [
    "from qiskit import QuantumCircuit\n",
    "from qiskit_aer import AerSimulator\n",
    "\n",
    "def calculate_kernel(zz_feature_map, x_data, y_data=None):\n",
    "    if y_data is None:\n",
    "        y_data = x_data\n",
    "    sim = AerSimulator()\n",
    "    x_matrix, y_matrix = [], []\n",
    "    for x0, x1 in x_data:\n",
    "        param0, param1 = zz_feature_map.parameters\n",
    "        qc = zz_feature_map.bind_parameters({param0: x0, param1: x1})\n",
    "        # .decompose() せずに .save_statevector() を使うとエラーになる。\n",
    "        qc = qc.decompose()\n",
    "        qc.save_statevector()\n",
    "        sv = sim.run(qc).result().get_statevector()\n",
    "        x_matrix.append(list(np.array(sv)))\n",
    "    for y0, y1 in y_data:\n",
    "        param0, param1 = zz_feature_map.parameters\n",
    "        qc = zz_feature_map.bind_parameters({param0: y0, param1: y1})\n",
    "        qc = qc.decompose()\n",
    "        qc.save_statevector()\n",
    "        sv = sim.run(qc).result().get_statevector()\n",
    "        y_matrix.append(list(np.array(sv)))\n",
    "    x_matrix, y_matrix = np.array(x_matrix), np.array(y_matrix)\n",
    "    kernel = np.abs(\n",
    "        y_matrix.conjugate() @ x_matrix.transpose()\n",
    "    )**2\n",
    "    return kernel"
   ]
  },
  {
   "cell_type": "code",
   "execution_count": null,
   "id": "b0f1f029-008d-4f61-86e4-494b71093edd",
   "metadata": {},
   "outputs": [],
   "source": [
    "zz_feature_map = ZZFeatureMap(feature_dimension=2, reps=2)\n",
    "train_kernel = calculate_kernel(zz_feature_map, train_data)"
   ]
  },
  {
   "cell_type": "code",
   "execution_count": null,
   "id": "a6e3f23c-4ba4-47c7-bf40-112db404393c",
   "metadata": {},
   "outputs": [],
   "source": [
    "model = SVC(kernel='precomputed')\n",
    "model.fit(train_kernel, train_labels);"
   ]
  },
  {
   "cell_type": "code",
   "execution_count": null,
   "id": "593aeb5d-8b80-47fe-8e00-2403219d4cde",
   "metadata": {},
   "outputs": [],
   "source": [
    "test_kernel = calculate_kernel(zz_feature_map, train_data, test_data)\n",
    "\n",
    "pred = model.predict(test_kernel)"
   ]
  },
  {
   "cell_type": "code",
   "execution_count": null,
   "id": "b85b760b-cbf1-4ad7-a51f-60d0e92cc7c4",
   "metadata": {},
   "outputs": [],
   "source": [
    "import matplotlib\n",
    "\n",
    "fig = plt.figure(figsize=(5, 5))\n",
    "ax = fig.add_subplot(111)\n",
    "ax.set_aspect('equal')\n",
    "ax.set_title(\"Predicted data classification\")\n",
    "ax.set_ylim(-2, 2)\n",
    "ax.set_xlim(-2, 2)\n",
    "for (x, y), pred_label in zip(test_data, pred):\n",
    "    c = 'C0' if pred_label == 0 else 'C3'\n",
    "    ax.add_patch(matplotlib.patches.Circle((x, y), radius=.01,\n",
    "                 fill=True, linestyle='solid', linewidth=4.0,\n",
    "                 color=c))\n",
    "plt.grid()\n",
    "plt.show()"
   ]
  },
  {
   "cell_type": "code",
   "execution_count": null,
   "id": "da231203-4d68-405e-9fdf-2eaa9a0dc3d9",
   "metadata": {},
   "outputs": [],
   "source": [
    "model.score(test_kernel, test_labels)"
   ]
  }
 ],
 "metadata": {
  "kernelspec": {
   "display_name": "Python 3",
   "language": "python",
   "name": "python3"
  },
  "language_info": {
   "codemirror_mode": {
    "name": "ipython",
    "version": 3
   },
   "file_extension": ".py",
   "mimetype": "text/x-python",
   "name": "python",
   "nbconvert_exporter": "python",
   "pygments_lexer": "ipython3",
   "version": "3.9.4"
  }
 },
 "nbformat": 4,
 "nbformat_minor": 5
}
